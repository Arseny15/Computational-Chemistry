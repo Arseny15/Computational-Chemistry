{
 "cells": [
  {
   "cell_type": "code",
   "execution_count": 93,
   "id": "c71503ee",
   "metadata": {},
   "outputs": [],
   "source": [
    "#take csv as dataframe.\n",
    "#For each data point with temp 120 and temp 105 with matching data(reagent, solvent, catalyst) save the yield percent (also add solvent_conc to name)\n",
    "#Then take the matching temp 90 data points for solv_conc 98 and 263.\n",
    "#Estimate yield % for temp 90 solv_conc 150.\n",
    "#Have a csv output of it.\n",
    "\n",
    "import pandas as pd\n",
    "import numpy as np\n",
    "\n",
    "data = pd.read_csv(\"full_imidazole_arylation_data.csv\")"
   ]
  },
  {
   "cell_type": "code",
   "execution_count": 94,
   "id": "bdddc1eb-a3bf-47cf-b017-f128c06f4505",
   "metadata": {},
   "outputs": [],
   "source": [
    "data = data.dropna(axis =1)\n",
    "temp_120_105 = data[(data[\"temperature_value\"] == 120) | (data[\"temperature_value\"] == 105)]\n",
    "temp_90 = data[(data[\"temperature_value\"] == 90)] \n",
    "temp_90 = temp_90.dropna(axis =1)\n",
    "df_columns = list(temp_90)\n",
    "final_df = pd.DataFrame()"
   ]
  },
  {
   "cell_type": "code",
   "execution_count": 95,
   "id": "f136e402",
   "metadata": {},
   "outputs": [
    {
     "name": "stderr",
     "output_type": "stream",
     "text": [
      "C:\\Users\\puddi\\anaconda3\\envs\\edbo\\lib\\site-packages\\ipykernel_launcher.py:11: RuntimeWarning: invalid value encountered in double_scalars\n",
      "  # This is added back by InteractiveShellApp.init_path()\n",
      "C:\\Users\\puddi\\anaconda3\\envs\\edbo\\lib\\site-packages\\ipykernel_launcher.py:13: RuntimeWarning: invalid value encountered in double_scalars\n",
      "  del sys.path[0]\n",
      "C:\\Users\\puddi\\anaconda3\\envs\\edbo\\lib\\site-packages\\ipykernel_launcher.py:14: RuntimeWarning: divide by zero encountered in double_scalars\n",
      "  \n"
     ]
    }
   ],
   "source": [
    "for i in range(32):\n",
    "    reaction_105_98 = temp_120_105.iloc[i]\n",
    "    reaction_105_150 = temp_120_105.iloc[i+32]\n",
    "    reaction_105_263 = temp_120_105.iloc[i+64]\n",
    "    reaction_120_98 = temp_120_105.iloc[i+96]\n",
    "    reaction_120_150 = temp_120_105.iloc[i+96+32]\n",
    "    reaction_120_263 = temp_120_105.iloc[i+96+64]\n",
    "    \n",
    " \n",
    "    \n",
    "    diff1_105 = (reaction_105_263[\"Product_0_Yield_Percent\"] - reaction_105_150[\"Product_0_Yield_Percent\"])/(reaction_105_263[\"Product_0_Yield_Percent\"] if reaction_105_263[\"Product_0_Yield_Percent\"] != 0 else reaction_105_150[\"Product_0_Yield_Percent\"])\n",
    "    diff2_105 = (reaction_105_150[\"Product_0_Yield_Percent\"] - reaction_105_98[\"Product_0_Yield_Percent\"])/(reaction_105_98[\"Product_0_Yield_Percent\"] if reaction_105_98[\"Product_0_Yield_Percent\"] != 0 else reaction_105_150[\"Product_0_Yield_Percent\"])\n",
    "    diff1_120 = (reaction_120_263[\"Product_0_Yield_Percent\"] - reaction_120_150[\"Product_0_Yield_Percent\"])/(reaction_120_263[\"Product_0_Yield_Percent\"] if reaction_120_98[\"Product_0_Yield_Percent\"] != 0 else reaction_120_150[\"Product_0_Yield_Percent\"])\n",
    "    diff2_120 = (reaction_120_150[\"Product_0_Yield_Percent\"] - reaction_120_98[\"Product_0_Yield_Percent\"])/ (reaction_120_98[\"Product_0_Yield_Percent\"] if reaction_120_263[\"Product_0_Yield_Percent\"] != 0 else reaction_120_150[\"Product_0_Yield_Percent\"])\n",
    "    \n",
    "    diff1 = min(np.abs(diff1_105), np.abs(diff1_120))\n",
    "    diff2 = min(np.abs(diff2_105), np.abs(diff2_120))\n",
    "    \n",
    "    if (np.isnan(diff1)):\n",
    "        diff1 = 0\n",
    "    if (np.isnan(diff2)):\n",
    "        diff2 = 0\n",
    "    \n",
    "    temp_90_98 = temp_90.iloc[i]\n",
    "    temp_90_263 = temp_90.iloc[i+32]\n",
    "    \n",
    "    min_y = temp_90_98[\"Product_0_Yield_Percent\"] - (temp_90_98[\"Product_0_Yield_Percent\"]*diff2)\n",
    "    max_y = temp_90_263[\"Product_0_Yield_Percent\"] + (temp_90_263[\"Product_0_Yield_Percent\"]*diff1)\n",
    "    \n",
    "    final_y = (min_y + max_y)/2\n",
    "    \n",
    "    row_90_150 = pd.DataFrame({df_columns[0]: i, df_columns[1]: temp_90_98[df_columns[1]], df_columns[2]: temp_90_98[df_columns[2]], df_columns[3]: temp_90_98[df_columns[3]], \n",
    "                               df_columns[4]: temp_90_98[df_columns[4]], df_columns[5]: temp_90_98[df_columns[5]], df_columns[6]: temp_90_98[df_columns[6]], df_columns[7]: temp_90_98[df_columns[7]], \n",
    "                               df_columns[8]: temp_90_98[df_columns[8]], df_columns[9]: temp_90_98[df_columns[9]], df_columns[10]: final_y, df_columns[11]: temp_90_98[df_columns[11]], \n",
    "                               df_columns[12]: temp_90_98[df_columns[12]], df_columns[13]: temp_90_98[df_columns[13]], df_columns[14]: temp_90_98[df_columns[14]], df_columns[15]: temp_90_98[df_columns[15]], \n",
    "                               df_columns[16]: temp_90_98[df_columns[16]], df_columns[17]: temp_90_98[df_columns[17]], df_columns[18]: temp_90_98[df_columns[18]], df_columns[19]: temp_90_98[df_columns[19]], \n",
    "                               df_columns[20]: temp_90_98[df_columns[20]], df_columns[21]: temp_90_98[df_columns[21]], df_columns[22]: temp_90_98[df_columns[22]], df_columns[23]: temp_90_98[df_columns[23]],\n",
    "                               df_columns[24]: temp_90_98[df_columns[24]], df_columns[25]: temp_90_98[df_columns[25]], df_columns[26]: temp_90_98[df_columns[26]]}, index=[0])\n",
    "   \n",
    "    final_df = final_df.append(row_90_150, ignore_index=True)   \n"
   ]
  },
  {
   "cell_type": "code",
   "execution_count": 96,
   "id": "25182330",
   "metadata": {},
   "outputs": [],
   "source": [
    "final_df.to_csv('temp_90_150_ia.csv', index=False)"
   ]
  }
 ],
 "metadata": {
  "kernelspec": {
   "display_name": "Python 3 (ipykernel)",
   "language": "python",
   "name": "python3"
  },
  "language_info": {
   "codemirror_mode": {
    "name": "ipython",
    "version": 3
   },
   "file_extension": ".py",
   "mimetype": "text/x-python",
   "name": "python",
   "nbconvert_exporter": "python",
   "pygments_lexer": "ipython3",
   "version": "3.7.1"
  }
 },
 "nbformat": 4,
 "nbformat_minor": 5
}
